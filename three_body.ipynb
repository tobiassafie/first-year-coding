{
 "cells": [
  {
   "cell_type": "code",
   "execution_count": null,
   "id": "244ac07c-6393-40a3-8126-0cb228455f3e",
   "metadata": {},
   "outputs": [
    {
     "data": {
      "text/html": [
       "<div id=\"glowscript\" class=\"glowscript\"></div>"
      ],
      "text/plain": [
       "<IPython.core.display.HTML object>"
      ]
     },
     "metadata": {},
     "output_type": "display_data"
    },
    {
     "data": {
      "application/javascript": [
       "if (typeof Jupyter !== \"undefined\") { window.__context = { glowscript_container: $(\"#glowscript\").removeAttr(\"id\")};}else{ element.textContent = ' ';}"
      ],
      "text/plain": [
       "<IPython.core.display.Javascript object>"
      ]
     },
     "metadata": {},
     "output_type": "display_data"
    },
    {
     "name": "stdout",
     "output_type": "stream",
     "text": [
      "Click anywhere on the canvas to place the third mass.\n"
     ]
    }
   ],
   "source": [
    "# Program: three_body.ipynb\n",
    "# Purpose: Simulate the Three-Body problem by placing the third mass by clicking on the canvqs\n",
    "# Author:  Tobias Safie - tks57@drexel.edu\n",
    "# Date:    October 30, 2024\n",
    "from vpython import *\n",
    "\n",
    "# Parameters\n",
    "t = 0\n",
    "dt = 0.01\n",
    "tmax = 20\n",
    "\n",
    "# Initialize star 1 + 2\n",
    "# Give them arbitrary values, just keep them all the same\n",
    "star1 = sphere(pos=vector(-1,0,0), radius = 0.1, color=color.blue, make_trail=True)\n",
    "star2 = sphere(pos=vector(1,0,0), radius = 0.1, color=color.green, make_trail=True)\n",
    "star1.m = 1\n",
    "star2.m = 1\n",
    "star1.v = vector(0, 0.5, 0)\n",
    "star2.v = vector(0, -0.5, 0)\n",
    "\n",
    "# Prompt the user to click to place star 3\n",
    "print(\"Click anywhere on the canvas to place the third mass.\")\n",
    "click_event = scene.waitfor(\"click\")  # This waits until a click occurs\n",
    "\n",
    "\n",
    "# Create star 3 @ click position\n",
    "star3 = sphere(pos=click_event.pos, radius=0.1, color=color.yellow, make_trail=True)\n",
    "star3.m = 1\n",
    "star3.v = vector(0.5, 0, 0)\n",
    "\n",
    "# Graph setup\n",
    "g1 = graph(xmin=0, xmax=tmax, title=\"Energy vs Time\")\n",
    "kline = gcurve(graph=g1, color=color.red, label=\"Kinetic Energy\")\n",
    "uline = gcurve(graph=g1, color=color.green, label=\"Potential Energy\")\n",
    "totline = gcurve(graph=g1, color=color.black, label=\"Total Energy\")\n",
    "\n",
    "# Helper function for gravitational energy\n",
    "def gravitational_force(m1, m2, r1, r2):\n",
    "    r12 = mag(r2 - r1)\n",
    "    return -m1 * m2 / r12**3 * (r1 - r2)\n",
    "\n",
    "# Simulation loop\n",
    "while t < tmax:\n",
    "    rate(200)\n",
    "    t += dt\n",
    "\n",
    "    # Force between pairs\n",
    "    F12 = gravitational_force(star1.m, star2.m, star1.pos, star2.pos)\n",
    "    F13 = gravitational_force(star1.m, star3.m, star1.pos, star3.pos)\n",
    "    F23 = gravitational_force(star2.m, star3.m, star2.pos, star3.pos)\n",
    "\n",
    "    # Update velocities\n",
    "    star1.v += (F12 + F13) / star1.m * dt\n",
    "    star2.v += (-F12 + F23) / star2.m * dt\n",
    "    star3.v += (-F13 - F23) / star3.m * dt\n",
    "\n",
    "    # Update positions\n",
    "    star1.pos += star1.v * dt\n",
    "    star2.pos += star2.v * dt\n",
    "    star3.pos += star3.v * dt\n",
    "\n",
    "    # Calculate kinetic energies\n",
    "    K1 = 0.5 * star1.m * mag(star1.v)**2\n",
    "    K2 = 0.5 * star2.m * mag(star2.v)**2\n",
    "    K3 = 0.5 * star3.m * mag(star3.v)**2\n",
    "    K = K1 + K2 + K3\n",
    "\n",
    "    #Calculate potential energies\n",
    "    U12 = -star1.m * star2.m / mag(star1.pos - star2.pos)\n",
    "    U13 = -star1.m * star3.m / mag(star1.pos - star3.pos)\n",
    "    U23 = -star2.m * star3.m / mag(star2.pos - star3.pos)\n",
    "    U = U12 + U13 + U23\n",
    "\n",
    "    # Sum up energies\n",
    "    E_total = K + U\n",
    "\n",
    "    # Plot energies\n",
    "    kline.plot(pos=(t, K))\n",
    "    uline.plot(pos=(t, U))\n",
    "    totline.plot(pos=(t, E_total))"
   ]
  },
  {
   "cell_type": "code",
   "execution_count": null,
   "id": "cb335278-4574-4571-afb7-0b6f290eaa3e",
   "metadata": {},
   "outputs": [],
   "source": []
  }
 ],
 "metadata": {
  "kernelspec": {
   "display_name": "Python 3 (ipykernel)",
   "language": "python",
   "name": "python3"
  },
  "language_info": {
   "codemirror_mode": {
    "name": "ipython",
    "version": 3
   },
   "file_extension": ".py",
   "mimetype": "text/x-python",
   "name": "python",
   "nbconvert_exporter": "python",
   "pygments_lexer": "ipython3",
   "version": "3.12.3"
  }
 },
 "nbformat": 4,
 "nbformat_minor": 5
}
